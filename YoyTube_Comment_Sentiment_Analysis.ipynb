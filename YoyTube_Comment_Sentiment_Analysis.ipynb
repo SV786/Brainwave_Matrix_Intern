{
  "nbformat": 4,
  "nbformat_minor": 0,
  "metadata": {
    "colab": {
      "provenance": []
    },
    "kernelspec": {
      "name": "python3",
      "display_name": "Python 3"
    },
    "language_info": {
      "name": "python"
    }
  },
  "cells": [
    {
      "cell_type": "code",
      "execution_count": null,
      "metadata": {
        "colab": {
          "base_uri": "https://localhost:8080/"
        },
        "id": "wlUV44URD0Aq",
        "outputId": "a0fedd8c-f3a5-4b12-a608-3e2fb5727a33"
      },
      "outputs": [
        {
          "output_type": "stream",
          "name": "stdout",
          "text": [
            "Requirement already satisfied: pandas in /usr/local/lib/python3.11/dist-packages (2.2.2)\n",
            "Requirement already satisfied: textblob in /usr/local/lib/python3.11/dist-packages (0.19.0)\n",
            "Requirement already satisfied: matplotlib in /usr/local/lib/python3.11/dist-packages (3.10.0)\n",
            "Requirement already satisfied: numpy>=1.23.2 in /usr/local/lib/python3.11/dist-packages (from pandas) (2.0.2)\n",
            "Requirement already satisfied: python-dateutil>=2.8.2 in /usr/local/lib/python3.11/dist-packages (from pandas) (2.9.0.post0)\n",
            "Requirement already satisfied: pytz>=2020.1 in /usr/local/lib/python3.11/dist-packages (from pandas) (2025.2)\n",
            "Requirement already satisfied: tzdata>=2022.7 in /usr/local/lib/python3.11/dist-packages (from pandas) (2025.2)\n",
            "Requirement already satisfied: nltk>=3.9 in /usr/local/lib/python3.11/dist-packages (from textblob) (3.9.1)\n",
            "Requirement already satisfied: contourpy>=1.0.1 in /usr/local/lib/python3.11/dist-packages (from matplotlib) (1.3.2)\n",
            "Requirement already satisfied: cycler>=0.10 in /usr/local/lib/python3.11/dist-packages (from matplotlib) (0.12.1)\n",
            "Requirement already satisfied: fonttools>=4.22.0 in /usr/local/lib/python3.11/dist-packages (from matplotlib) (4.58.1)\n",
            "Requirement already satisfied: kiwisolver>=1.3.1 in /usr/local/lib/python3.11/dist-packages (from matplotlib) (1.4.8)\n",
            "Requirement already satisfied: packaging>=20.0 in /usr/local/lib/python3.11/dist-packages (from matplotlib) (24.2)\n",
            "Requirement already satisfied: pillow>=8 in /usr/local/lib/python3.11/dist-packages (from matplotlib) (11.2.1)\n",
            "Requirement already satisfied: pyparsing>=2.3.1 in /usr/local/lib/python3.11/dist-packages (from matplotlib) (3.2.3)\n",
            "Requirement already satisfied: click in /usr/local/lib/python3.11/dist-packages (from nltk>=3.9->textblob) (8.2.1)\n",
            "Requirement already satisfied: joblib in /usr/local/lib/python3.11/dist-packages (from nltk>=3.9->textblob) (1.5.1)\n",
            "Requirement already satisfied: regex>=2021.8.3 in /usr/local/lib/python3.11/dist-packages (from nltk>=3.9->textblob) (2024.11.6)\n",
            "Requirement already satisfied: tqdm in /usr/local/lib/python3.11/dist-packages (from nltk>=3.9->textblob) (4.67.1)\n",
            "Requirement already satisfied: six>=1.5 in /usr/local/lib/python3.11/dist-packages (from python-dateutil>=2.8.2->pandas) (1.17.0)\n",
            "Requirement already satisfied: youtube-comment-downloader in /usr/local/lib/python3.11/dist-packages (0.1.76)\n",
            "Requirement already satisfied: dateparser in /usr/local/lib/python3.11/dist-packages (from youtube-comment-downloader) (1.2.1)\n",
            "Requirement already satisfied: requests in /usr/local/lib/python3.11/dist-packages (from youtube-comment-downloader) (2.32.3)\n",
            "Requirement already satisfied: python-dateutil>=2.7.0 in /usr/local/lib/python3.11/dist-packages (from dateparser->youtube-comment-downloader) (2.9.0.post0)\n",
            "Requirement already satisfied: pytz>=2024.2 in /usr/local/lib/python3.11/dist-packages (from dateparser->youtube-comment-downloader) (2025.2)\n",
            "Requirement already satisfied: regex!=2019.02.19,!=2021.8.27,>=2015.06.24 in /usr/local/lib/python3.11/dist-packages (from dateparser->youtube-comment-downloader) (2024.11.6)\n",
            "Requirement already satisfied: tzlocal>=0.2 in /usr/local/lib/python3.11/dist-packages (from dateparser->youtube-comment-downloader) (5.3.1)\n",
            "Requirement already satisfied: charset-normalizer<4,>=2 in /usr/local/lib/python3.11/dist-packages (from requests->youtube-comment-downloader) (3.4.2)\n",
            "Requirement already satisfied: idna<4,>=2.5 in /usr/local/lib/python3.11/dist-packages (from requests->youtube-comment-downloader) (3.10)\n",
            "Requirement already satisfied: urllib3<3,>=1.21.1 in /usr/local/lib/python3.11/dist-packages (from requests->youtube-comment-downloader) (2.4.0)\n",
            "Requirement already satisfied: certifi>=2017.4.17 in /usr/local/lib/python3.11/dist-packages (from requests->youtube-comment-downloader) (2025.4.26)\n",
            "Requirement already satisfied: six>=1.5 in /usr/local/lib/python3.11/dist-packages (from python-dateutil>=2.7.0->dateparser->youtube-comment-downloader) (1.17.0)\n"
          ]
        }
      ],
      "source": [
        "#Install Required Libraries\n",
        "#Download YouTube Comments Without API -  install it globally:\n",
        "\n",
        "!pip install pandas textblob matplotlib\n",
        "!pip install youtube-comment-downloader"
      ]
    },
    {
      "cell_type": "code",
      "source": [
        "#Then download comments via terminal:\n",
        "!youtube-comment-downloader --url https://www.youtube.com/watch?v=dMn2QFTyXUQ --output comments.json"
      ],
      "metadata": {
        "colab": {
          "base_uri": "https://localhost:8080/"
        },
        "id": "doieOnAEEqgI",
        "outputId": "f78b8bab-709f-4c2d-cb3c-542b2f791378"
      },
      "execution_count": null,
      "outputs": [
        {
          "output_type": "stream",
          "name": "stdout",
          "text": [
            "Downloading Youtube comments for https://www.youtube.com/watch?v=dMn2QFTyXUQ\n",
            "Downloaded 1412 comment(s)\n",
            "[34.53 seconds] Done!\n"
          ]
        }
      ]
    },
    {
      "cell_type": "code",
      "source": [
        "# Importing necessary libraries\n",
        "import pandas as pd                            # For data handling and manipulation\n",
        "import json                                    # For reading JSON files (YouTube comment data)\n",
        "from textblob import TextBlob                  # For performing sentiment analysis\n",
        "import matplotlib.pyplot as plt                # For visualizing sentiment results\n",
        "import re                                      # For regular expression operations (text cleaning)\n",
        "import nltk                                    # Natural Language Toolkit - used for tokenization and other NLP tasks\n",
        "\n",
        "# Downloading required tokenizer data for TextBlob (needed only once)\n",
        "nltk.download('punkt')                        # Downloads the Punkt tokenizer models for sentence splitting"
      ],
      "metadata": {
        "colab": {
          "base_uri": "https://localhost:8080/"
        },
        "id": "ihyzLua8IlBw",
        "outputId": "f6949478-3aab-496d-bf12-aa7234e417f8"
      },
      "execution_count": null,
      "outputs": [
        {
          "output_type": "stream",
          "name": "stderr",
          "text": [
            "[nltk_data] Downloading package punkt to /root/nltk_data...\n",
            "[nltk_data]   Package punkt is already up-to-date!\n"
          ]
        },
        {
          "output_type": "execute_result",
          "data": {
            "text/plain": [
              "True"
            ]
          },
          "metadata": {},
          "execution_count": 20
        }
      ]
    },
    {
      "cell_type": "code",
      "source": [
        "# -------Load JSON comments into DataFrame-------\n",
        "\n",
        "comments = []\n",
        "\n",
        "with open(\"comments.json\", 'r', encoding='utf-8') as f:\n",
        "    for line in f:\n",
        "        data = json.loads(line)          # Parse the JSON string into a Python dictionary\n",
        "        comments.append(data['text'])    # Extract the 'text' field (actual comment) and add it to the list\n",
        "\n",
        "df = pd.DataFrame(comments, columns=['comment'])\n"
      ],
      "metadata": {
        "id": "4Ij9-LCsItJ6"
      },
      "execution_count": null,
      "outputs": []
    },
    {
      "cell_type": "code",
      "source": [
        "# ----------- Text Preprocessing Function ------------\n",
        "def clean_comment(text):\n",
        "    text = text.lower()                                # Convert to lowercase\n",
        "    text = re.sub(r\"http\\S+\", \"\", text)                # Remove URLs\n",
        "    text = re.sub(r\"[^a-zA-Z\\s]\", \"\", text)            # Remove non-alphabetic characters\n",
        "    text = re.sub(r'\\s+', ' ', text).strip()           # Remove extra spaces\n",
        "    return text\n",
        "\n",
        "df['clean_comment'] = df['comment'].apply(clean_comment)"
      ],
      "metadata": {
        "id": "fmn1-ey-I1xS"
      },
      "execution_count": null,
      "outputs": []
    },
    {
      "cell_type": "code",
      "source": [
        "# ----------- Sentiment Analysis using TextBlob --------\n",
        "\n",
        "# Define a function that returns the sentiment polarity score of a given text\n",
        "def get_sentiment(text):\n",
        "    return TextBlob(text).sentiment.polarity  # Returns a float between -1.0 (very negative) and +1.0 (very positive)\n",
        "\n",
        "# Apply the sentiment function to each cleaned comment and store the result in a new column 'sentiment_score'\n",
        "df['sentiment_score'] = df['clean_comment'].apply(get_sentiment)\n",
        "\n",
        "# Define a function to label the sentiment based on the polarity score\n",
        "def sentiment_label(score):\n",
        "    if score > 0.1:\n",
        "        return \"Positive\"\n",
        "    elif score < -0.1:\n",
        "        return \"Negative\"\n",
        "    else:\n",
        "        return \"Neutral\"\n",
        "\n",
        "# Apply the sentiment labeling function to assign a sentiment category for each comment\n",
        "df['sentiment'] = df['sentiment_score'].apply(sentiment_label)\n"
      ],
      "metadata": {
        "id": "kNoaE8l2I2K-"
      },
      "execution_count": null,
      "outputs": []
    },
    {
      "cell_type": "code",
      "source": [
        "# ----------- Display Results ------------------------\n",
        "print(df[['comment', 'sentiment_score', 'sentiment']].head())"
      ],
      "metadata": {
        "colab": {
          "base_uri": "https://localhost:8080/"
        },
        "id": "HYS9sVdWI6dK",
        "outputId": "0bc9a7b1-8a2e-4bc3-f8f3-6529fecb5986"
      },
      "execution_count": null,
      "outputs": [
        {
          "output_type": "stream",
          "name": "stdout",
          "text": [
            "                                             comment  sentiment_score  \\\n",
            "0  Checkout Simplilearn's Data Analytics Course: ...              0.0   \n",
            "1                                         Harry bhai              0.0   \n",
            "2                Which degree to persue after 12th??              0.0   \n",
            "3  Is there any placement guaranteed sites after ...              0.0   \n",
            "4                         gift me this course please              0.0   \n",
            "\n",
            "  sentiment  \n",
            "0   Neutral  \n",
            "1   Neutral  \n",
            "2   Neutral  \n",
            "3   Neutral  \n",
            "4   Neutral  \n"
          ]
        }
      ]
    },
    {
      "cell_type": "code",
      "source": [
        "# ----------- Visualize Sentiment Distribution -------\n",
        "plt.figure(figsize=(6, 4))\n",
        "df['sentiment'].value_counts().plot(kind='bar', color=['green', 'red', 'gray'])\n",
        "plt.title('Sentiment Distribution of YouTube Comments')\n",
        "plt.xlabel('Sentiment')\n",
        "plt.ylabel('Number of Comments')\n",
        "plt.xticks(rotation=0)\n",
        "plt.tight_layout()\n",
        "plt.show()"
      ],
      "metadata": {
        "colab": {
          "base_uri": "https://localhost:8080/",
          "height": 407
        },
        "id": "LBylWoWSI_kl",
        "outputId": "e715ba48-2194-4a52-977a-7be06eec9039"
      },
      "execution_count": null,
      "outputs": [
        {
          "output_type": "display_data",
          "data": {
            "text/plain": [
              "<Figure size 600x400 with 1 Axes>"
            ],
            "image/png": "[encoded data removed]"
          },
          "metadata": {}
        }
      ]
    },
    {
      "cell_type": "code",
      "source": [],
      "metadata": {
        "id": "9s8xHK0gGHOD"
      },
      "execution_count": null,
      "outputs": []
    },
    {
      "cell_type": "code",
      "source": [],
      "metadata": {
        "id": "k2Q8SMDMJY3G"
      },
      "execution_count": null,
      "outputs": []
    }
  ]
}